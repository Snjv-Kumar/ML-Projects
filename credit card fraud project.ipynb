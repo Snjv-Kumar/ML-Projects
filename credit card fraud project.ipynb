{
 "cells": [
  {
   "cell_type": "code",
   "execution_count": 2,
   "id": "93893cd3",
   "metadata": {},
   "outputs": [],
   "source": [
    "import pandas as pd\n",
    "import numpy as np\n",
    "import seaborn as sns\n",
    "import matplotlib.pyplot as plt\n",
    "from sklearn.model_selection import train_test_split\n",
    "from sklearn.linear_model import LogisticRegression\n",
    "from sklearn.metrics import accuracy_score"
   ]
  },
  {
   "cell_type": "code",
   "execution_count": 3,
   "id": "016abe23",
   "metadata": {},
   "outputs": [],
   "source": [
    "df=pd.read_csv(\"creditcard.csv\")"
   ]
  },
  {
   "cell_type": "code",
   "execution_count": 4,
   "id": "afbf23f7",
   "metadata": {},
   "outputs": [
    {
     "data": {
      "text/plain": [
       "Time      0\n",
       "V1        0\n",
       "V2        0\n",
       "V3        0\n",
       "V4        0\n",
       "V5        0\n",
       "V6        0\n",
       "V7        0\n",
       "V8        0\n",
       "V9        0\n",
       "V10       0\n",
       "V11       0\n",
       "V12       0\n",
       "V13       0\n",
       "V14       0\n",
       "V15       0\n",
       "V16       0\n",
       "V17       0\n",
       "V18       0\n",
       "V19       0\n",
       "V20       0\n",
       "V21       0\n",
       "V22       0\n",
       "V23       0\n",
       "V24       0\n",
       "V25       0\n",
       "V26       0\n",
       "V27       0\n",
       "V28       0\n",
       "Amount    0\n",
       "Class     0\n",
       "dtype: int64"
      ]
     },
     "execution_count": 4,
     "metadata": {},
     "output_type": "execute_result"
    }
   ],
   "source": [
    "df.isnull().sum()"
   ]
  },
  {
   "cell_type": "code",
   "execution_count": 6,
   "id": "61753ce1",
   "metadata": {},
   "outputs": [
    {
     "data": {
      "text/plain": [
       "(284807, 31)"
      ]
     },
     "execution_count": 6,
     "metadata": {},
     "output_type": "execute_result"
    }
   ],
   "source": [
    "df.shape"
   ]
  },
  {
   "cell_type": "code",
   "execution_count": 7,
   "id": "44dafe9b",
   "metadata": {},
   "outputs": [
    {
     "data": {
      "text/plain": [
       "0    284315\n",
       "1       492\n",
       "Name: Class, dtype: int64"
      ]
     },
     "execution_count": 7,
     "metadata": {},
     "output_type": "execute_result"
    }
   ],
   "source": [
    "df.Class.value_counts()"
   ]
  },
  {
   "cell_type": "code",
   "execution_count": 8,
   "id": "3e27532b",
   "metadata": {},
   "outputs": [
    {
     "data": {
      "text/html": [
       "<div>\n",
       "<style scoped>\n",
       "    .dataframe tbody tr th:only-of-type {\n",
       "        vertical-align: middle;\n",
       "    }\n",
       "\n",
       "    .dataframe tbody tr th {\n",
       "        vertical-align: top;\n",
       "    }\n",
       "\n",
       "    .dataframe thead th {\n",
       "        text-align: right;\n",
       "    }\n",
       "</style>\n",
       "<table border=\"1\" class=\"dataframe\">\n",
       "  <thead>\n",
       "    <tr style=\"text-align: right;\">\n",
       "      <th></th>\n",
       "      <th>Time</th>\n",
       "      <th>V1</th>\n",
       "      <th>V2</th>\n",
       "      <th>V3</th>\n",
       "      <th>V4</th>\n",
       "      <th>V5</th>\n",
       "      <th>V6</th>\n",
       "      <th>V7</th>\n",
       "      <th>V8</th>\n",
       "      <th>V9</th>\n",
       "      <th>...</th>\n",
       "      <th>V20</th>\n",
       "      <th>V21</th>\n",
       "      <th>V22</th>\n",
       "      <th>V23</th>\n",
       "      <th>V24</th>\n",
       "      <th>V25</th>\n",
       "      <th>V26</th>\n",
       "      <th>V27</th>\n",
       "      <th>V28</th>\n",
       "      <th>Amount</th>\n",
       "    </tr>\n",
       "    <tr>\n",
       "      <th>Class</th>\n",
       "      <th></th>\n",
       "      <th></th>\n",
       "      <th></th>\n",
       "      <th></th>\n",
       "      <th></th>\n",
       "      <th></th>\n",
       "      <th></th>\n",
       "      <th></th>\n",
       "      <th></th>\n",
       "      <th></th>\n",
       "      <th></th>\n",
       "      <th></th>\n",
       "      <th></th>\n",
       "      <th></th>\n",
       "      <th></th>\n",
       "      <th></th>\n",
       "      <th></th>\n",
       "      <th></th>\n",
       "      <th></th>\n",
       "      <th></th>\n",
       "      <th></th>\n",
       "    </tr>\n",
       "  </thead>\n",
       "  <tbody>\n",
       "    <tr>\n",
       "      <th>0</th>\n",
       "      <td>94838.202258</td>\n",
       "      <td>0.008258</td>\n",
       "      <td>-0.006271</td>\n",
       "      <td>0.012171</td>\n",
       "      <td>-0.007860</td>\n",
       "      <td>0.005453</td>\n",
       "      <td>0.002419</td>\n",
       "      <td>0.009637</td>\n",
       "      <td>-0.000987</td>\n",
       "      <td>0.004467</td>\n",
       "      <td>...</td>\n",
       "      <td>-0.000644</td>\n",
       "      <td>-0.001235</td>\n",
       "      <td>-0.000024</td>\n",
       "      <td>0.000070</td>\n",
       "      <td>0.000182</td>\n",
       "      <td>-0.000072</td>\n",
       "      <td>-0.000089</td>\n",
       "      <td>-0.000295</td>\n",
       "      <td>-0.000131</td>\n",
       "      <td>88.291022</td>\n",
       "    </tr>\n",
       "    <tr>\n",
       "      <th>1</th>\n",
       "      <td>80746.806911</td>\n",
       "      <td>-4.771948</td>\n",
       "      <td>3.623778</td>\n",
       "      <td>-7.033281</td>\n",
       "      <td>4.542029</td>\n",
       "      <td>-3.151225</td>\n",
       "      <td>-1.397737</td>\n",
       "      <td>-5.568731</td>\n",
       "      <td>0.570636</td>\n",
       "      <td>-2.581123</td>\n",
       "      <td>...</td>\n",
       "      <td>0.372319</td>\n",
       "      <td>0.713588</td>\n",
       "      <td>0.014049</td>\n",
       "      <td>-0.040308</td>\n",
       "      <td>-0.105130</td>\n",
       "      <td>0.041449</td>\n",
       "      <td>0.051648</td>\n",
       "      <td>0.170575</td>\n",
       "      <td>0.075667</td>\n",
       "      <td>122.211321</td>\n",
       "    </tr>\n",
       "  </tbody>\n",
       "</table>\n",
       "<p>2 rows × 30 columns</p>\n",
       "</div>"
      ],
      "text/plain": [
       "               Time        V1        V2        V3        V4        V5  \\\n",
       "Class                                                                   \n",
       "0      94838.202258  0.008258 -0.006271  0.012171 -0.007860  0.005453   \n",
       "1      80746.806911 -4.771948  3.623778 -7.033281  4.542029 -3.151225   \n",
       "\n",
       "             V6        V7        V8        V9  ...       V20       V21  \\\n",
       "Class                                          ...                       \n",
       "0      0.002419  0.009637 -0.000987  0.004467  ... -0.000644 -0.001235   \n",
       "1     -1.397737 -5.568731  0.570636 -2.581123  ...  0.372319  0.713588   \n",
       "\n",
       "            V22       V23       V24       V25       V26       V27       V28  \\\n",
       "Class                                                                         \n",
       "0     -0.000024  0.000070  0.000182 -0.000072 -0.000089 -0.000295 -0.000131   \n",
       "1      0.014049 -0.040308 -0.105130  0.041449  0.051648  0.170575  0.075667   \n",
       "\n",
       "           Amount  \n",
       "Class              \n",
       "0       88.291022  \n",
       "1      122.211321  \n",
       "\n",
       "[2 rows x 30 columns]"
      ]
     },
     "execution_count": 8,
     "metadata": {},
     "output_type": "execute_result"
    }
   ],
   "source": [
    "df.groupby(\"Class\").mean()"
   ]
  },
  {
   "cell_type": "code",
   "execution_count": 9,
   "id": "cfd269e4",
   "metadata": {},
   "outputs": [],
   "source": [
    "#building a data with sama distribution for normal transaction and fraud transaction"
   ]
  },
  {
   "cell_type": "code",
   "execution_count": 10,
   "id": "59f55908",
   "metadata": {},
   "outputs": [],
   "source": [
    "legit=df[df.Class==0]"
   ]
  },
  {
   "cell_type": "code",
   "execution_count": 11,
   "id": "27b0d4a7",
   "metadata": {},
   "outputs": [
    {
     "data": {
      "text/plain": [
       "(284315, 31)"
      ]
     },
     "execution_count": 11,
     "metadata": {},
     "output_type": "execute_result"
    }
   ],
   "source": [
    "legit.shape"
   ]
  },
  {
   "cell_type": "code",
   "execution_count": 12,
   "id": "828e9635",
   "metadata": {},
   "outputs": [],
   "source": [
    "legit_sample=legit.sample(n=492)"
   ]
  },
  {
   "cell_type": "code",
   "execution_count": 13,
   "id": "097d3c96",
   "metadata": {},
   "outputs": [],
   "source": [
    "fraud=df[df.Class==1]"
   ]
  },
  {
   "cell_type": "code",
   "execution_count": 15,
   "id": "4893c139",
   "metadata": {},
   "outputs": [
    {
     "data": {
      "text/plain": [
       "(492, 31)"
      ]
     },
     "execution_count": 15,
     "metadata": {},
     "output_type": "execute_result"
    }
   ],
   "source": [
    "fraud.shape"
   ]
  },
  {
   "cell_type": "code",
   "execution_count": 18,
   "id": "0302b73b",
   "metadata": {},
   "outputs": [],
   "source": [
    "new_df=pd.concat([legit_sample,fraud],axis=0)"
   ]
  },
  {
   "cell_type": "code",
   "execution_count": 19,
   "id": "b5b44fbd",
   "metadata": {},
   "outputs": [
    {
     "data": {
      "text/html": [
       "<div>\n",
       "<style scoped>\n",
       "    .dataframe tbody tr th:only-of-type {\n",
       "        vertical-align: middle;\n",
       "    }\n",
       "\n",
       "    .dataframe tbody tr th {\n",
       "        vertical-align: top;\n",
       "    }\n",
       "\n",
       "    .dataframe thead th {\n",
       "        text-align: right;\n",
       "    }\n",
       "</style>\n",
       "<table border=\"1\" class=\"dataframe\">\n",
       "  <thead>\n",
       "    <tr style=\"text-align: right;\">\n",
       "      <th></th>\n",
       "      <th>Time</th>\n",
       "      <th>V1</th>\n",
       "      <th>V2</th>\n",
       "      <th>V3</th>\n",
       "      <th>V4</th>\n",
       "      <th>V5</th>\n",
       "      <th>V6</th>\n",
       "      <th>V7</th>\n",
       "      <th>V8</th>\n",
       "      <th>V9</th>\n",
       "      <th>...</th>\n",
       "      <th>V21</th>\n",
       "      <th>V22</th>\n",
       "      <th>V23</th>\n",
       "      <th>V24</th>\n",
       "      <th>V25</th>\n",
       "      <th>V26</th>\n",
       "      <th>V27</th>\n",
       "      <th>V28</th>\n",
       "      <th>Amount</th>\n",
       "      <th>Class</th>\n",
       "    </tr>\n",
       "  </thead>\n",
       "  <tbody>\n",
       "    <tr>\n",
       "      <th>174311</th>\n",
       "      <td>121860.0</td>\n",
       "      <td>2.089426</td>\n",
       "      <td>0.169364</td>\n",
       "      <td>-1.958667</td>\n",
       "      <td>0.365668</td>\n",
       "      <td>0.482997</td>\n",
       "      <td>-0.992224</td>\n",
       "      <td>0.162764</td>\n",
       "      <td>-0.280009</td>\n",
       "      <td>0.394929</td>\n",
       "      <td>...</td>\n",
       "      <td>0.138653</td>\n",
       "      <td>0.497732</td>\n",
       "      <td>0.032682</td>\n",
       "      <td>0.533755</td>\n",
       "      <td>0.111972</td>\n",
       "      <td>0.656804</td>\n",
       "      <td>-0.068078</td>\n",
       "      <td>-0.034038</td>\n",
       "      <td>5.50</td>\n",
       "      <td>0</td>\n",
       "    </tr>\n",
       "    <tr>\n",
       "      <th>100008</th>\n",
       "      <td>67382.0</td>\n",
       "      <td>0.896175</td>\n",
       "      <td>-0.156827</td>\n",
       "      <td>0.392627</td>\n",
       "      <td>1.296901</td>\n",
       "      <td>-0.272420</td>\n",
       "      <td>-0.162873</td>\n",
       "      <td>0.259531</td>\n",
       "      <td>-0.101804</td>\n",
       "      <td>0.094537</td>\n",
       "      <td>...</td>\n",
       "      <td>-0.082031</td>\n",
       "      <td>-0.345153</td>\n",
       "      <td>-0.090820</td>\n",
       "      <td>0.104007</td>\n",
       "      <td>0.447165</td>\n",
       "      <td>-0.502986</td>\n",
       "      <td>0.026739</td>\n",
       "      <td>0.049581</td>\n",
       "      <td>148.10</td>\n",
       "      <td>0</td>\n",
       "    </tr>\n",
       "    <tr>\n",
       "      <th>130018</th>\n",
       "      <td>79264.0</td>\n",
       "      <td>1.246407</td>\n",
       "      <td>-0.388802</td>\n",
       "      <td>0.899249</td>\n",
       "      <td>-0.719567</td>\n",
       "      <td>-1.259956</td>\n",
       "      <td>-0.838625</td>\n",
       "      <td>-0.610265</td>\n",
       "      <td>-0.001709</td>\n",
       "      <td>1.905522</td>\n",
       "      <td>...</td>\n",
       "      <td>-0.018704</td>\n",
       "      <td>0.168863</td>\n",
       "      <td>-0.028943</td>\n",
       "      <td>0.394305</td>\n",
       "      <td>0.481328</td>\n",
       "      <td>-0.684740</td>\n",
       "      <td>0.090015</td>\n",
       "      <td>0.034106</td>\n",
       "      <td>1.00</td>\n",
       "      <td>0</td>\n",
       "    </tr>\n",
       "    <tr>\n",
       "      <th>122561</th>\n",
       "      <td>76607.0</td>\n",
       "      <td>-1.331297</td>\n",
       "      <td>-0.907563</td>\n",
       "      <td>2.896433</td>\n",
       "      <td>-1.371251</td>\n",
       "      <td>-0.958367</td>\n",
       "      <td>0.079420</td>\n",
       "      <td>-0.824887</td>\n",
       "      <td>0.479371</td>\n",
       "      <td>-0.320371</td>\n",
       "      <td>...</td>\n",
       "      <td>0.317069</td>\n",
       "      <td>0.855721</td>\n",
       "      <td>-0.103675</td>\n",
       "      <td>0.362572</td>\n",
       "      <td>0.536350</td>\n",
       "      <td>-0.158019</td>\n",
       "      <td>0.285174</td>\n",
       "      <td>0.137203</td>\n",
       "      <td>83.73</td>\n",
       "      <td>0</td>\n",
       "    </tr>\n",
       "    <tr>\n",
       "      <th>173604</th>\n",
       "      <td>121558.0</td>\n",
       "      <td>1.845725</td>\n",
       "      <td>-0.384763</td>\n",
       "      <td>-0.805873</td>\n",
       "      <td>1.367355</td>\n",
       "      <td>0.137227</td>\n",
       "      <td>0.564584</td>\n",
       "      <td>-0.208612</td>\n",
       "      <td>0.099273</td>\n",
       "      <td>1.171755</td>\n",
       "      <td>...</td>\n",
       "      <td>-0.524494</td>\n",
       "      <td>-1.392184</td>\n",
       "      <td>0.327339</td>\n",
       "      <td>-0.051757</td>\n",
       "      <td>-0.240284</td>\n",
       "      <td>-1.100982</td>\n",
       "      <td>0.039791</td>\n",
       "      <td>-0.017786</td>\n",
       "      <td>80.00</td>\n",
       "      <td>0</td>\n",
       "    </tr>\n",
       "  </tbody>\n",
       "</table>\n",
       "<p>5 rows × 31 columns</p>\n",
       "</div>"
      ],
      "text/plain": [
       "            Time        V1        V2        V3        V4        V5        V6  \\\n",
       "174311  121860.0  2.089426  0.169364 -1.958667  0.365668  0.482997 -0.992224   \n",
       "100008   67382.0  0.896175 -0.156827  0.392627  1.296901 -0.272420 -0.162873   \n",
       "130018   79264.0  1.246407 -0.388802  0.899249 -0.719567 -1.259956 -0.838625   \n",
       "122561   76607.0 -1.331297 -0.907563  2.896433 -1.371251 -0.958367  0.079420   \n",
       "173604  121558.0  1.845725 -0.384763 -0.805873  1.367355  0.137227  0.564584   \n",
       "\n",
       "              V7        V8        V9  ...       V21       V22       V23  \\\n",
       "174311  0.162764 -0.280009  0.394929  ...  0.138653  0.497732  0.032682   \n",
       "100008  0.259531 -0.101804  0.094537  ... -0.082031 -0.345153 -0.090820   \n",
       "130018 -0.610265 -0.001709  1.905522  ... -0.018704  0.168863 -0.028943   \n",
       "122561 -0.824887  0.479371 -0.320371  ...  0.317069  0.855721 -0.103675   \n",
       "173604 -0.208612  0.099273  1.171755  ... -0.524494 -1.392184  0.327339   \n",
       "\n",
       "             V24       V25       V26       V27       V28  Amount  Class  \n",
       "174311  0.533755  0.111972  0.656804 -0.068078 -0.034038    5.50      0  \n",
       "100008  0.104007  0.447165 -0.502986  0.026739  0.049581  148.10      0  \n",
       "130018  0.394305  0.481328 -0.684740  0.090015  0.034106    1.00      0  \n",
       "122561  0.362572  0.536350 -0.158019  0.285174  0.137203   83.73      0  \n",
       "173604 -0.051757 -0.240284 -1.100982  0.039791 -0.017786   80.00      0  \n",
       "\n",
       "[5 rows x 31 columns]"
      ]
     },
     "execution_count": 19,
     "metadata": {},
     "output_type": "execute_result"
    }
   ],
   "source": [
    "new_df.head()"
   ]
  },
  {
   "cell_type": "code",
   "execution_count": 20,
   "id": "28945493",
   "metadata": {},
   "outputs": [
    {
     "data": {
      "text/plain": [
       "0    492\n",
       "1    492\n",
       "Name: Class, dtype: int64"
      ]
     },
     "execution_count": 20,
     "metadata": {},
     "output_type": "execute_result"
    }
   ],
   "source": [
    "new_df.Class.value_counts()"
   ]
  },
  {
   "cell_type": "code",
   "execution_count": 21,
   "id": "c56e90e0",
   "metadata": {},
   "outputs": [
    {
     "data": {
      "text/html": [
       "<div>\n",
       "<style scoped>\n",
       "    .dataframe tbody tr th:only-of-type {\n",
       "        vertical-align: middle;\n",
       "    }\n",
       "\n",
       "    .dataframe tbody tr th {\n",
       "        vertical-align: top;\n",
       "    }\n",
       "\n",
       "    .dataframe thead th {\n",
       "        text-align: right;\n",
       "    }\n",
       "</style>\n",
       "<table border=\"1\" class=\"dataframe\">\n",
       "  <thead>\n",
       "    <tr style=\"text-align: right;\">\n",
       "      <th></th>\n",
       "      <th>Time</th>\n",
       "      <th>V1</th>\n",
       "      <th>V2</th>\n",
       "      <th>V3</th>\n",
       "      <th>V4</th>\n",
       "      <th>V5</th>\n",
       "      <th>V6</th>\n",
       "      <th>V7</th>\n",
       "      <th>V8</th>\n",
       "      <th>V9</th>\n",
       "      <th>...</th>\n",
       "      <th>V20</th>\n",
       "      <th>V21</th>\n",
       "      <th>V22</th>\n",
       "      <th>V23</th>\n",
       "      <th>V24</th>\n",
       "      <th>V25</th>\n",
       "      <th>V26</th>\n",
       "      <th>V27</th>\n",
       "      <th>V28</th>\n",
       "      <th>Amount</th>\n",
       "    </tr>\n",
       "    <tr>\n",
       "      <th>Class</th>\n",
       "      <th></th>\n",
       "      <th></th>\n",
       "      <th></th>\n",
       "      <th></th>\n",
       "      <th></th>\n",
       "      <th></th>\n",
       "      <th></th>\n",
       "      <th></th>\n",
       "      <th></th>\n",
       "      <th></th>\n",
       "      <th></th>\n",
       "      <th></th>\n",
       "      <th></th>\n",
       "      <th></th>\n",
       "      <th></th>\n",
       "      <th></th>\n",
       "      <th></th>\n",
       "      <th></th>\n",
       "      <th></th>\n",
       "      <th></th>\n",
       "      <th></th>\n",
       "    </tr>\n",
       "  </thead>\n",
       "  <tbody>\n",
       "    <tr>\n",
       "      <th>0</th>\n",
       "      <td>96460.731707</td>\n",
       "      <td>-0.012177</td>\n",
       "      <td>-0.106539</td>\n",
       "      <td>-0.058845</td>\n",
       "      <td>0.105405</td>\n",
       "      <td>0.144359</td>\n",
       "      <td>-0.046843</td>\n",
       "      <td>-0.003147</td>\n",
       "      <td>-0.029369</td>\n",
       "      <td>-0.013412</td>\n",
       "      <td>...</td>\n",
       "      <td>-0.041762</td>\n",
       "      <td>0.016905</td>\n",
       "      <td>0.006932</td>\n",
       "      <td>0.048563</td>\n",
       "      <td>0.005907</td>\n",
       "      <td>0.026578</td>\n",
       "      <td>0.019876</td>\n",
       "      <td>0.021698</td>\n",
       "      <td>0.015583</td>\n",
       "      <td>84.769228</td>\n",
       "    </tr>\n",
       "    <tr>\n",
       "      <th>1</th>\n",
       "      <td>80746.806911</td>\n",
       "      <td>-4.771948</td>\n",
       "      <td>3.623778</td>\n",
       "      <td>-7.033281</td>\n",
       "      <td>4.542029</td>\n",
       "      <td>-3.151225</td>\n",
       "      <td>-1.397737</td>\n",
       "      <td>-5.568731</td>\n",
       "      <td>0.570636</td>\n",
       "      <td>-2.581123</td>\n",
       "      <td>...</td>\n",
       "      <td>0.372319</td>\n",
       "      <td>0.713588</td>\n",
       "      <td>0.014049</td>\n",
       "      <td>-0.040308</td>\n",
       "      <td>-0.105130</td>\n",
       "      <td>0.041449</td>\n",
       "      <td>0.051648</td>\n",
       "      <td>0.170575</td>\n",
       "      <td>0.075667</td>\n",
       "      <td>122.211321</td>\n",
       "    </tr>\n",
       "  </tbody>\n",
       "</table>\n",
       "<p>2 rows × 30 columns</p>\n",
       "</div>"
      ],
      "text/plain": [
       "               Time        V1        V2        V3        V4        V5  \\\n",
       "Class                                                                   \n",
       "0      96460.731707 -0.012177 -0.106539 -0.058845  0.105405  0.144359   \n",
       "1      80746.806911 -4.771948  3.623778 -7.033281  4.542029 -3.151225   \n",
       "\n",
       "             V6        V7        V8        V9  ...       V20       V21  \\\n",
       "Class                                          ...                       \n",
       "0     -0.046843 -0.003147 -0.029369 -0.013412  ... -0.041762  0.016905   \n",
       "1     -1.397737 -5.568731  0.570636 -2.581123  ...  0.372319  0.713588   \n",
       "\n",
       "            V22       V23       V24       V25       V26       V27       V28  \\\n",
       "Class                                                                         \n",
       "0      0.006932  0.048563  0.005907  0.026578  0.019876  0.021698  0.015583   \n",
       "1      0.014049 -0.040308 -0.105130  0.041449  0.051648  0.170575  0.075667   \n",
       "\n",
       "           Amount  \n",
       "Class              \n",
       "0       84.769228  \n",
       "1      122.211321  \n",
       "\n",
       "[2 rows x 30 columns]"
      ]
     },
     "execution_count": 21,
     "metadata": {},
     "output_type": "execute_result"
    }
   ],
   "source": [
    "new_df.groupby(\"Class\").mean()"
   ]
  },
  {
   "cell_type": "code",
   "execution_count": 22,
   "id": "44ac20a1",
   "metadata": {},
   "outputs": [],
   "source": [
    "x=new_df.drop([\"Class\"],axis=1)\n",
    "y=new_df.Class"
   ]
  },
  {
   "cell_type": "code",
   "execution_count": 23,
   "id": "9277dacf",
   "metadata": {},
   "outputs": [
    {
     "data": {
      "text/html": [
       "<div>\n",
       "<style scoped>\n",
       "    .dataframe tbody tr th:only-of-type {\n",
       "        vertical-align: middle;\n",
       "    }\n",
       "\n",
       "    .dataframe tbody tr th {\n",
       "        vertical-align: top;\n",
       "    }\n",
       "\n",
       "    .dataframe thead th {\n",
       "        text-align: right;\n",
       "    }\n",
       "</style>\n",
       "<table border=\"1\" class=\"dataframe\">\n",
       "  <thead>\n",
       "    <tr style=\"text-align: right;\">\n",
       "      <th></th>\n",
       "      <th>Time</th>\n",
       "      <th>V1</th>\n",
       "      <th>V2</th>\n",
       "      <th>V3</th>\n",
       "      <th>V4</th>\n",
       "      <th>V5</th>\n",
       "      <th>V6</th>\n",
       "      <th>V7</th>\n",
       "      <th>V8</th>\n",
       "      <th>V9</th>\n",
       "      <th>...</th>\n",
       "      <th>V20</th>\n",
       "      <th>V21</th>\n",
       "      <th>V22</th>\n",
       "      <th>V23</th>\n",
       "      <th>V24</th>\n",
       "      <th>V25</th>\n",
       "      <th>V26</th>\n",
       "      <th>V27</th>\n",
       "      <th>V28</th>\n",
       "      <th>Amount</th>\n",
       "    </tr>\n",
       "  </thead>\n",
       "  <tbody>\n",
       "    <tr>\n",
       "      <th>174311</th>\n",
       "      <td>121860.0</td>\n",
       "      <td>2.089426</td>\n",
       "      <td>0.169364</td>\n",
       "      <td>-1.958667</td>\n",
       "      <td>0.365668</td>\n",
       "      <td>0.482997</td>\n",
       "      <td>-0.992224</td>\n",
       "      <td>0.162764</td>\n",
       "      <td>-0.280009</td>\n",
       "      <td>0.394929</td>\n",
       "      <td>...</td>\n",
       "      <td>-0.136723</td>\n",
       "      <td>0.138653</td>\n",
       "      <td>0.497732</td>\n",
       "      <td>0.032682</td>\n",
       "      <td>0.533755</td>\n",
       "      <td>0.111972</td>\n",
       "      <td>0.656804</td>\n",
       "      <td>-0.068078</td>\n",
       "      <td>-0.034038</td>\n",
       "      <td>5.5</td>\n",
       "    </tr>\n",
       "    <tr>\n",
       "      <th>100008</th>\n",
       "      <td>67382.0</td>\n",
       "      <td>0.896175</td>\n",
       "      <td>-0.156827</td>\n",
       "      <td>0.392627</td>\n",
       "      <td>1.296901</td>\n",
       "      <td>-0.272420</td>\n",
       "      <td>-0.162873</td>\n",
       "      <td>0.259531</td>\n",
       "      <td>-0.101804</td>\n",
       "      <td>0.094537</td>\n",
       "      <td>...</td>\n",
       "      <td>0.181283</td>\n",
       "      <td>-0.082031</td>\n",
       "      <td>-0.345153</td>\n",
       "      <td>-0.090820</td>\n",
       "      <td>0.104007</td>\n",
       "      <td>0.447165</td>\n",
       "      <td>-0.502986</td>\n",
       "      <td>0.026739</td>\n",
       "      <td>0.049581</td>\n",
       "      <td>148.1</td>\n",
       "    </tr>\n",
       "  </tbody>\n",
       "</table>\n",
       "<p>2 rows × 30 columns</p>\n",
       "</div>"
      ],
      "text/plain": [
       "            Time        V1        V2        V3        V4        V5        V6  \\\n",
       "174311  121860.0  2.089426  0.169364 -1.958667  0.365668  0.482997 -0.992224   \n",
       "100008   67382.0  0.896175 -0.156827  0.392627  1.296901 -0.272420 -0.162873   \n",
       "\n",
       "              V7        V8        V9  ...       V20       V21       V22  \\\n",
       "174311  0.162764 -0.280009  0.394929  ... -0.136723  0.138653  0.497732   \n",
       "100008  0.259531 -0.101804  0.094537  ...  0.181283 -0.082031 -0.345153   \n",
       "\n",
       "             V23       V24       V25       V26       V27       V28  Amount  \n",
       "174311  0.032682  0.533755  0.111972  0.656804 -0.068078 -0.034038     5.5  \n",
       "100008 -0.090820  0.104007  0.447165 -0.502986  0.026739  0.049581   148.1  \n",
       "\n",
       "[2 rows x 30 columns]"
      ]
     },
     "execution_count": 23,
     "metadata": {},
     "output_type": "execute_result"
    }
   ],
   "source": [
    "x.head(2)"
   ]
  },
  {
   "cell_type": "code",
   "execution_count": 24,
   "id": "88c0794d",
   "metadata": {},
   "outputs": [
    {
     "data": {
      "text/plain": [
       "174311    0\n",
       "100008    0\n",
       "Name: Class, dtype: int64"
      ]
     },
     "execution_count": 24,
     "metadata": {},
     "output_type": "execute_result"
    }
   ],
   "source": [
    "y.head(2)"
   ]
  },
  {
   "cell_type": "code",
   "execution_count": 25,
   "id": "3f4d5862",
   "metadata": {},
   "outputs": [],
   "source": [
    "x_train,x_test,y_train,y_test=train_test_split(x,y,test_size=0.2,stratify=y,random_state=2)"
   ]
  },
  {
   "cell_type": "code",
   "execution_count": 26,
   "id": "d59418fc",
   "metadata": {},
   "outputs": [],
   "source": [
    "model=LogisticRegression()"
   ]
  },
  {
   "cell_type": "code",
   "execution_count": 27,
   "id": "7565cd85",
   "metadata": {},
   "outputs": [
    {
     "name": "stderr",
     "output_type": "stream",
     "text": [
      "C:\\anaconda\\lib\\site-packages\\sklearn\\linear_model\\_logistic.py:763: ConvergenceWarning: lbfgs failed to converge (status=1):\n",
      "STOP: TOTAL NO. of ITERATIONS REACHED LIMIT.\n",
      "\n",
      "Increase the number of iterations (max_iter) or scale the data as shown in:\n",
      "    https://scikit-learn.org/stable/modules/preprocessing.html\n",
      "Please also refer to the documentation for alternative solver options:\n",
      "    https://scikit-learn.org/stable/modules/linear_model.html#logistic-regression\n",
      "  n_iter_i = _check_optimize_result(\n"
     ]
    },
    {
     "data": {
      "text/plain": [
       "LogisticRegression()"
      ]
     },
     "execution_count": 27,
     "metadata": {},
     "output_type": "execute_result"
    }
   ],
   "source": [
    "model.fit(x_train,y_train)"
   ]
  },
  {
   "cell_type": "code",
   "execution_count": 28,
   "id": "8c9a3f86",
   "metadata": {},
   "outputs": [
    {
     "name": "stdout",
     "output_type": "stream",
     "text": [
      "0.9377382465057179\n"
     ]
    }
   ],
   "source": [
    "train_data=model.predict(x_train)\n",
    "score_train=accuracy_score(y_train,train_data)\n",
    "print(score_train)"
   ]
  },
  {
   "cell_type": "code",
   "execution_count": 29,
   "id": "861a7672",
   "metadata": {},
   "outputs": [
    {
     "name": "stdout",
     "output_type": "stream",
     "text": [
      "0.9238578680203046\n"
     ]
    }
   ],
   "source": [
    "test_data=model.predict(x_test)\n",
    "score_test=accuracy_score(y_test,test_data)\n",
    "print(score_test)"
   ]
  },
  {
   "cell_type": "code",
   "execution_count": 36,
   "id": "ded279f2",
   "metadata": {},
   "outputs": [
    {
     "name": "stdout",
     "output_type": "stream",
     "text": [
      "[1]\n",
      "fraud transaction\n"
     ]
    }
   ],
   "source": [
    "input_data=(472,-3.0435406239976,-3.15730712090228,1.08846277997285,2.2886436183814,1.35980512966107,-1.06482252298131,0.325574266158614,-0.0677936531906277,-0.270952836226548,-0.838586564582682,-0.414575448285725,-0.503140859566824,0.676501544635863,-1.69202893305906,2.00063483909015,0.666779695901966,0.599717413841732,1.72532100745514,0.283344830149495,2.10233879259444,0.661695924845707,0.435477208966341,1.37596574254306,-0.293803152734021,0.279798031841214,-0.145361714815161,-0.252773122530705,0.0357642251788156,529)\n",
    "input_data_arr=np.asarray(input_data)\n",
    "input_data_arr_re=input_data_arr.reshape(1,-1)\n",
    "predict=model.predict(input_data_arr_re)\n",
    "print(predict)\n",
    "if(predict[0]==0):\n",
    "    print(\"genuine transaction\")\n",
    "else:\n",
    "    print(\"fraud transaction\")"
   ]
  },
  {
   "cell_type": "code",
   "execution_count": 34,
   "id": "26c70c7d",
   "metadata": {},
   "outputs": [],
   "source": [
    "fraud.to_csv(\"fffff.csv\")"
   ]
  },
  {
   "cell_type": "code",
   "execution_count": 35,
   "id": "17d05aa7",
   "metadata": {},
   "outputs": [],
   "source": [
    "fraud.to_excel(\"fffff.xlsx\")"
   ]
  },
  {
   "cell_type": "code",
   "execution_count": null,
   "id": "83d73fe0",
   "metadata": {},
   "outputs": [],
   "source": []
  }
 ],
 "metadata": {
  "kernelspec": {
   "display_name": "Python 3 (ipykernel)",
   "language": "python",
   "name": "python3"
  },
  "language_info": {
   "codemirror_mode": {
    "name": "ipython",
    "version": 3
   },
   "file_extension": ".py",
   "mimetype": "text/x-python",
   "name": "python",
   "nbconvert_exporter": "python",
   "pygments_lexer": "ipython3",
   "version": "3.9.7"
  }
 },
 "nbformat": 4,
 "nbformat_minor": 5
}
