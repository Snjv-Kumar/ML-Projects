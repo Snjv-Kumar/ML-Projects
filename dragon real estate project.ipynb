{
 "cells": [
  {
   "cell_type": "code",
   "execution_count": 1,
   "id": "041d6c0c",
   "metadata": {},
   "outputs": [],
   "source": [
    "import pandas as pd\n",
    "import numpy as np\n",
    "from matplotlib import pyplot as plt\n",
    "import seaborn as sns"
   ]
  },
  {
   "cell_type": "code",
   "execution_count": 2,
   "id": "3552d97c",
   "metadata": {},
   "outputs": [],
   "source": [
    "data=pd.read_csv(\"real.csv\")"
   ]
  },
  {
   "cell_type": "code",
   "execution_count": 3,
   "id": "9243ed98",
   "metadata": {},
   "outputs": [
    {
     "data": {
      "text/html": [
       "<div>\n",
       "<style scoped>\n",
       "    .dataframe tbody tr th:only-of-type {\n",
       "        vertical-align: middle;\n",
       "    }\n",
       "\n",
       "    .dataframe tbody tr th {\n",
       "        vertical-align: top;\n",
       "    }\n",
       "\n",
       "    .dataframe thead th {\n",
       "        text-align: right;\n",
       "    }\n",
       "</style>\n",
       "<table border=\"1\" class=\"dataframe\">\n",
       "  <thead>\n",
       "    <tr style=\"text-align: right;\">\n",
       "      <th></th>\n",
       "      <th>CRIM</th>\n",
       "      <th>ZN</th>\n",
       "      <th>INDUS</th>\n",
       "      <th>CHAS</th>\n",
       "      <th>NOX</th>\n",
       "      <th>RM</th>\n",
       "      <th>AGE</th>\n",
       "      <th>DIS</th>\n",
       "      <th>RAD</th>\n",
       "      <th>TAX</th>\n",
       "      <th>PTRATIO</th>\n",
       "      <th>B</th>\n",
       "      <th>LSTAT</th>\n",
       "      <th>MEDV</th>\n",
       "    </tr>\n",
       "  </thead>\n",
       "  <tbody>\n",
       "    <tr>\n",
       "      <th>0</th>\n",
       "      <td>0.00632</td>\n",
       "      <td>18.0</td>\n",
       "      <td>2.31</td>\n",
       "      <td>0</td>\n",
       "      <td>0.538</td>\n",
       "      <td>6.575</td>\n",
       "      <td>65.2</td>\n",
       "      <td>4.0900</td>\n",
       "      <td>1</td>\n",
       "      <td>296</td>\n",
       "      <td>15.3</td>\n",
       "      <td>396.90</td>\n",
       "      <td>4.98</td>\n",
       "      <td>24.0</td>\n",
       "    </tr>\n",
       "    <tr>\n",
       "      <th>1</th>\n",
       "      <td>0.02731</td>\n",
       "      <td>0.0</td>\n",
       "      <td>7.07</td>\n",
       "      <td>0</td>\n",
       "      <td>0.469</td>\n",
       "      <td>6.421</td>\n",
       "      <td>78.9</td>\n",
       "      <td>4.9671</td>\n",
       "      <td>2</td>\n",
       "      <td>242</td>\n",
       "      <td>17.8</td>\n",
       "      <td>396.90</td>\n",
       "      <td>9.14</td>\n",
       "      <td>21.6</td>\n",
       "    </tr>\n",
       "    <tr>\n",
       "      <th>2</th>\n",
       "      <td>0.02729</td>\n",
       "      <td>0.0</td>\n",
       "      <td>7.07</td>\n",
       "      <td>0</td>\n",
       "      <td>0.469</td>\n",
       "      <td>7.185</td>\n",
       "      <td>61.1</td>\n",
       "      <td>4.9671</td>\n",
       "      <td>2</td>\n",
       "      <td>242</td>\n",
       "      <td>17.8</td>\n",
       "      <td>392.83</td>\n",
       "      <td>4.03</td>\n",
       "      <td>34.7</td>\n",
       "    </tr>\n",
       "    <tr>\n",
       "      <th>3</th>\n",
       "      <td>0.03237</td>\n",
       "      <td>0.0</td>\n",
       "      <td>2.18</td>\n",
       "      <td>0</td>\n",
       "      <td>0.458</td>\n",
       "      <td>6.998</td>\n",
       "      <td>45.8</td>\n",
       "      <td>6.0622</td>\n",
       "      <td>3</td>\n",
       "      <td>222</td>\n",
       "      <td>18.7</td>\n",
       "      <td>394.63</td>\n",
       "      <td>2.94</td>\n",
       "      <td>33.4</td>\n",
       "    </tr>\n",
       "    <tr>\n",
       "      <th>4</th>\n",
       "      <td>0.06905</td>\n",
       "      <td>0.0</td>\n",
       "      <td>2.18</td>\n",
       "      <td>0</td>\n",
       "      <td>0.458</td>\n",
       "      <td>7.147</td>\n",
       "      <td>54.2</td>\n",
       "      <td>6.0622</td>\n",
       "      <td>3</td>\n",
       "      <td>222</td>\n",
       "      <td>18.7</td>\n",
       "      <td>396.90</td>\n",
       "      <td>5.33</td>\n",
       "      <td>36.2</td>\n",
       "    </tr>\n",
       "  </tbody>\n",
       "</table>\n",
       "</div>"
      ],
      "text/plain": [
       "      CRIM    ZN  INDUS  CHAS    NOX     RM   AGE     DIS  RAD  TAX  PTRATIO  \\\n",
       "0  0.00632  18.0   2.31     0  0.538  6.575  65.2  4.0900    1  296     15.3   \n",
       "1  0.02731   0.0   7.07     0  0.469  6.421  78.9  4.9671    2  242     17.8   \n",
       "2  0.02729   0.0   7.07     0  0.469  7.185  61.1  4.9671    2  242     17.8   \n",
       "3  0.03237   0.0   2.18     0  0.458  6.998  45.8  6.0622    3  222     18.7   \n",
       "4  0.06905   0.0   2.18     0  0.458  7.147  54.2  6.0622    3  222     18.7   \n",
       "\n",
       "        B  LSTAT  MEDV  \n",
       "0  396.90   4.98  24.0  \n",
       "1  396.90   9.14  21.6  \n",
       "2  392.83   4.03  34.7  \n",
       "3  394.63   2.94  33.4  \n",
       "4  396.90   5.33  36.2  "
      ]
     },
     "execution_count": 3,
     "metadata": {},
     "output_type": "execute_result"
    }
   ],
   "source": [
    "data.head()"
   ]
  },
  {
   "cell_type": "code",
   "execution_count": 4,
   "id": "e98e7349",
   "metadata": {},
   "outputs": [
    {
     "data": {
      "text/plain": [
       "(511, 14)"
      ]
     },
     "execution_count": 4,
     "metadata": {},
     "output_type": "execute_result"
    }
   ],
   "source": [
    "data.shape"
   ]
  },
  {
   "cell_type": "code",
   "execution_count": 6,
   "id": "d10ebb7d",
   "metadata": {},
   "outputs": [
    {
     "data": {
      "text/html": [
       "<div>\n",
       "<style scoped>\n",
       "    .dataframe tbody tr th:only-of-type {\n",
       "        vertical-align: middle;\n",
       "    }\n",
       "\n",
       "    .dataframe tbody tr th {\n",
       "        vertical-align: top;\n",
       "    }\n",
       "\n",
       "    .dataframe thead th {\n",
       "        text-align: right;\n",
       "    }\n",
       "</style>\n",
       "<table border=\"1\" class=\"dataframe\">\n",
       "  <thead>\n",
       "    <tr style=\"text-align: right;\">\n",
       "      <th></th>\n",
       "      <th>CRIM</th>\n",
       "      <th>ZN</th>\n",
       "      <th>INDUS</th>\n",
       "      <th>CHAS</th>\n",
       "      <th>NOX</th>\n",
       "      <th>RM</th>\n",
       "      <th>AGE</th>\n",
       "      <th>DIS</th>\n",
       "      <th>RAD</th>\n",
       "      <th>TAX</th>\n",
       "      <th>PTRATIO</th>\n",
       "      <th>B</th>\n",
       "      <th>LSTAT</th>\n",
       "      <th>MEDV</th>\n",
       "    </tr>\n",
       "  </thead>\n",
       "  <tbody>\n",
       "    <tr>\n",
       "      <th>count</th>\n",
       "      <td>511.000000</td>\n",
       "      <td>511.000000</td>\n",
       "      <td>511.000000</td>\n",
       "      <td>511.000000</td>\n",
       "      <td>511.000000</td>\n",
       "      <td>506.000000</td>\n",
       "      <td>511.000000</td>\n",
       "      <td>511.000000</td>\n",
       "      <td>511.000000</td>\n",
       "      <td>511.000000</td>\n",
       "      <td>511.000000</td>\n",
       "      <td>511.000000</td>\n",
       "      <td>511.000000</td>\n",
       "      <td>511.000000</td>\n",
       "    </tr>\n",
       "    <tr>\n",
       "      <th>mean</th>\n",
       "      <td>3.584139</td>\n",
       "      <td>11.252446</td>\n",
       "      <td>11.151096</td>\n",
       "      <td>0.068493</td>\n",
       "      <td>0.554757</td>\n",
       "      <td>6.287589</td>\n",
       "      <td>68.616243</td>\n",
       "      <td>3.783876</td>\n",
       "      <td>9.485323</td>\n",
       "      <td>407.440313</td>\n",
       "      <td>18.500000</td>\n",
       "      <td>356.600900</td>\n",
       "      <td>12.879550</td>\n",
       "      <td>22.682192</td>\n",
       "    </tr>\n",
       "    <tr>\n",
       "      <th>std</th>\n",
       "      <td>8.564433</td>\n",
       "      <td>23.234838</td>\n",
       "      <td>6.828175</td>\n",
       "      <td>0.252838</td>\n",
       "      <td>0.115310</td>\n",
       "      <td>0.703802</td>\n",
       "      <td>28.099130</td>\n",
       "      <td>2.098631</td>\n",
       "      <td>8.688469</td>\n",
       "      <td>167.903532</td>\n",
       "      <td>2.200348</td>\n",
       "      <td>90.882679</td>\n",
       "      <td>7.797416</td>\n",
       "      <td>9.484262</td>\n",
       "    </tr>\n",
       "    <tr>\n",
       "      <th>min</th>\n",
       "      <td>0.006320</td>\n",
       "      <td>0.000000</td>\n",
       "      <td>0.460000</td>\n",
       "      <td>0.000000</td>\n",
       "      <td>0.385000</td>\n",
       "      <td>3.561000</td>\n",
       "      <td>2.900000</td>\n",
       "      <td>1.129600</td>\n",
       "      <td>1.000000</td>\n",
       "      <td>187.000000</td>\n",
       "      <td>12.600000</td>\n",
       "      <td>0.320000</td>\n",
       "      <td>1.730000</td>\n",
       "      <td>5.000000</td>\n",
       "    </tr>\n",
       "    <tr>\n",
       "      <th>25%</th>\n",
       "      <td>0.082325</td>\n",
       "      <td>0.000000</td>\n",
       "      <td>5.190000</td>\n",
       "      <td>0.000000</td>\n",
       "      <td>0.449000</td>\n",
       "      <td>5.885500</td>\n",
       "      <td>45.050000</td>\n",
       "      <td>2.100350</td>\n",
       "      <td>4.000000</td>\n",
       "      <td>279.500000</td>\n",
       "      <td>17.400000</td>\n",
       "      <td>374.710000</td>\n",
       "      <td>7.065000</td>\n",
       "      <td>17.050000</td>\n",
       "    </tr>\n",
       "    <tr>\n",
       "      <th>50%</th>\n",
       "      <td>0.261690</td>\n",
       "      <td>0.000000</td>\n",
       "      <td>9.690000</td>\n",
       "      <td>0.000000</td>\n",
       "      <td>0.538000</td>\n",
       "      <td>6.209000</td>\n",
       "      <td>77.300000</td>\n",
       "      <td>3.152300</td>\n",
       "      <td>5.000000</td>\n",
       "      <td>330.000000</td>\n",
       "      <td>19.100000</td>\n",
       "      <td>391.340000</td>\n",
       "      <td>11.450000</td>\n",
       "      <td>21.200000</td>\n",
       "    </tr>\n",
       "    <tr>\n",
       "      <th>75%</th>\n",
       "      <td>3.621175</td>\n",
       "      <td>12.500000</td>\n",
       "      <td>18.100000</td>\n",
       "      <td>0.000000</td>\n",
       "      <td>0.624000</td>\n",
       "      <td>6.629750</td>\n",
       "      <td>94.050000</td>\n",
       "      <td>5.118000</td>\n",
       "      <td>24.000000</td>\n",
       "      <td>666.000000</td>\n",
       "      <td>20.200000</td>\n",
       "      <td>396.210000</td>\n",
       "      <td>17.105000</td>\n",
       "      <td>25.000000</td>\n",
       "    </tr>\n",
       "    <tr>\n",
       "      <th>max</th>\n",
       "      <td>88.976200</td>\n",
       "      <td>100.000000</td>\n",
       "      <td>27.740000</td>\n",
       "      <td>1.000000</td>\n",
       "      <td>0.871000</td>\n",
       "      <td>8.780000</td>\n",
       "      <td>100.000000</td>\n",
       "      <td>12.126500</td>\n",
       "      <td>24.000000</td>\n",
       "      <td>711.000000</td>\n",
       "      <td>23.000000</td>\n",
       "      <td>396.900000</td>\n",
       "      <td>76.000000</td>\n",
       "      <td>67.000000</td>\n",
       "    </tr>\n",
       "  </tbody>\n",
       "</table>\n",
       "</div>"
      ],
      "text/plain": [
       "             CRIM          ZN       INDUS        CHAS         NOX          RM  \\\n",
       "count  511.000000  511.000000  511.000000  511.000000  511.000000  506.000000   \n",
       "mean     3.584139   11.252446   11.151096    0.068493    0.554757    6.287589   \n",
       "std      8.564433   23.234838    6.828175    0.252838    0.115310    0.703802   \n",
       "min      0.006320    0.000000    0.460000    0.000000    0.385000    3.561000   \n",
       "25%      0.082325    0.000000    5.190000    0.000000    0.449000    5.885500   \n",
       "50%      0.261690    0.000000    9.690000    0.000000    0.538000    6.209000   \n",
       "75%      3.621175   12.500000   18.100000    0.000000    0.624000    6.629750   \n",
       "max     88.976200  100.000000   27.740000    1.000000    0.871000    8.780000   \n",
       "\n",
       "              AGE         DIS         RAD         TAX     PTRATIO           B  \\\n",
       "count  511.000000  511.000000  511.000000  511.000000  511.000000  511.000000   \n",
       "mean    68.616243    3.783876    9.485323  407.440313   18.500000  356.600900   \n",
       "std     28.099130    2.098631    8.688469  167.903532    2.200348   90.882679   \n",
       "min      2.900000    1.129600    1.000000  187.000000   12.600000    0.320000   \n",
       "25%     45.050000    2.100350    4.000000  279.500000   17.400000  374.710000   \n",
       "50%     77.300000    3.152300    5.000000  330.000000   19.100000  391.340000   \n",
       "75%     94.050000    5.118000   24.000000  666.000000   20.200000  396.210000   \n",
       "max    100.000000   12.126500   24.000000  711.000000   23.000000  396.900000   \n",
       "\n",
       "            LSTAT        MEDV  \n",
       "count  511.000000  511.000000  \n",
       "mean    12.879550   22.682192  \n",
       "std      7.797416    9.484262  \n",
       "min      1.730000    5.000000  \n",
       "25%      7.065000   17.050000  \n",
       "50%     11.450000   21.200000  \n",
       "75%     17.105000   25.000000  \n",
       "max     76.000000   67.000000  "
      ]
     },
     "execution_count": 6,
     "metadata": {},
     "output_type": "execute_result"
    }
   ],
   "source": [
    "data.describe()"
   ]
  },
  {
   "cell_type": "code",
   "execution_count": 7,
   "id": "49ba5796",
   "metadata": {},
   "outputs": [
    {
     "name": "stdout",
     "output_type": "stream",
     "text": [
      "<class 'pandas.core.frame.DataFrame'>\n",
      "RangeIndex: 511 entries, 0 to 510\n",
      "Data columns (total 14 columns):\n",
      " #   Column   Non-Null Count  Dtype  \n",
      "---  ------   --------------  -----  \n",
      " 0   CRIM     511 non-null    float64\n",
      " 1   ZN       511 non-null    float64\n",
      " 2   INDUS    511 non-null    float64\n",
      " 3   CHAS     511 non-null    int64  \n",
      " 4   NOX      511 non-null    float64\n",
      " 5   RM       506 non-null    float64\n",
      " 6   AGE      511 non-null    float64\n",
      " 7   DIS      511 non-null    float64\n",
      " 8   RAD      511 non-null    int64  \n",
      " 9   TAX      511 non-null    int64  \n",
      " 10  PTRATIO  511 non-null    float64\n",
      " 11  B        511 non-null    float64\n",
      " 12  LSTAT    511 non-null    float64\n",
      " 13  MEDV     511 non-null    float64\n",
      "dtypes: float64(11), int64(3)\n",
      "memory usage: 56.0 KB\n"
     ]
    }
   ],
   "source": [
    "data.info()"
   ]
  },
  {
   "cell_type": "code",
   "execution_count": 18,
   "id": "205977d2",
   "metadata": {},
   "outputs": [
    {
     "data": {
      "text/plain": [
       "0    476\n",
       "1     35\n",
       "Name: CHAS, dtype: int64"
      ]
     },
     "execution_count": 18,
     "metadata": {},
     "output_type": "execute_result"
    }
   ],
   "source": [
    "data[\"CHAS\"].value_counts()"
   ]
  },
  {
   "cell_type": "code",
   "execution_count": 22,
   "id": "8e792e89",
   "metadata": {},
   "outputs": [
    {
     "data": {
      "text/plain": [
       "array([[<AxesSubplot:title={'center':'CRIM'}>,\n",
       "        <AxesSubplot:title={'center':'ZN'}>,\n",
       "        <AxesSubplot:title={'center':'INDUS'}>,\n",
       "        <AxesSubplot:title={'center':'CHAS'}>],\n",
       "       [<AxesSubplot:title={'center':'NOX'}>,\n",
       "        <AxesSubplot:title={'center':'RM'}>,\n",
       "        <AxesSubplot:title={'center':'AGE'}>,\n",
       "        <AxesSubplot:title={'center':'DIS'}>],\n",
       "       [<AxesSubplot:title={'center':'RAD'}>,\n",
       "        <AxesSubplot:title={'center':'TAX'}>,\n",
       "        <AxesSubplot:title={'center':'PTRATIO'}>,\n",
       "        <AxesSubplot:title={'center':'B'}>],\n",
       "       [<AxesSubplot:title={'center':'LSTAT'}>,\n",
       "        <AxesSubplot:title={'center':'MEDV'}>, <AxesSubplot:>,\n",
       "        <AxesSubplot:>]], dtype=object)"
      ]
     },
     "execution_count": 22,
     "metadata": {},
     "output_type": "execute_result"
    },
    {
     "data": {
      "image/png": "[encoded data removed]",
      "text/plain": [
       "<Figure size 1440x1080 with 16 Axes>"
      ]
     },
     "metadata": {
      "needs_background": "light"
     },
     "output_type": "display_data"
    }
   ],
   "source": [
    "data.hist(bins=50, figsize=(20,15))"
   ]
  },
  {
   "cell_type": "code",
   "execution_count": 28,
   "id": "866a3743",
   "metadata": {},
   "outputs": [],
   "source": [
    "v=data[data[\"RM\"]==' ']"
   ]
  },
  {
   "cell_type": "code",
   "execution_count": 29,
   "id": "ed3884a9",
   "metadata": {},
   "outputs": [
    {
     "data": {
      "text/html": [
       "<div>\n",
       "<style scoped>\n",
       "    .dataframe tbody tr th:only-of-type {\n",
       "        vertical-align: middle;\n",
       "    }\n",
       "\n",
       "    .dataframe tbody tr th {\n",
       "        vertical-align: top;\n",
       "    }\n",
       "\n",
       "    .dataframe thead th {\n",
       "        text-align: right;\n",
       "    }\n",
       "</style>\n",
       "<table border=\"1\" class=\"dataframe\">\n",
       "  <thead>\n",
       "    <tr style=\"text-align: right;\">\n",
       "      <th></th>\n",
       "      <th>CRIM</th>\n",
       "      <th>ZN</th>\n",
       "      <th>INDUS</th>\n",
       "      <th>CHAS</th>\n",
       "      <th>NOX</th>\n",
       "      <th>RM</th>\n",
       "      <th>AGE</th>\n",
       "      <th>DIS</th>\n",
       "      <th>RAD</th>\n",
       "      <th>TAX</th>\n",
       "      <th>PTRATIO</th>\n",
       "      <th>B</th>\n",
       "      <th>LSTAT</th>\n",
       "      <th>MEDV</th>\n",
       "    </tr>\n",
       "  </thead>\n",
       "  <tbody>\n",
       "  </tbody>\n",
       "</table>\n",
       "</div>"
      ],
      "text/plain": [
       "Empty DataFrame\n",
       "Columns: [CRIM, ZN, INDUS, CHAS, NOX, RM, AGE, DIS, RAD, TAX, PTRATIO, B, LSTAT, MEDV]\n",
       "Index: []"
      ]
     },
     "execution_count": 29,
     "metadata": {},
     "output_type": "execute_result"
    }
   ],
   "source": [
    "v"
   ]
  },
  {
   "cell_type": "code",
   "execution_count": 34,
   "id": "855019b0",
   "metadata": {},
   "outputs": [],
   "source": [
    "data1=pd.read_csv(\"real1.csv\")"
   ]
  },
  {
   "cell_type": "code",
   "execution_count": 35,
   "id": "947ddb60",
   "metadata": {},
   "outputs": [
    {
     "name": "stdout",
     "output_type": "stream",
     "text": [
      "<class 'pandas.core.frame.DataFrame'>\n",
      "RangeIndex: 511 entries, 0 to 510\n",
      "Data columns (total 14 columns):\n",
      " #   Column   Non-Null Count  Dtype  \n",
      "---  ------   --------------  -----  \n",
      " 0   CRIM     511 non-null    float64\n",
      " 1   ZN       511 non-null    float64\n",
      " 2   INDUS    511 non-null    float64\n",
      " 3   CHAS     511 non-null    int64  \n",
      " 4   NOX      511 non-null    float64\n",
      " 5   RM       511 non-null    float64\n",
      " 6   AGE      511 non-null    float64\n",
      " 7   DIS      511 non-null    float64\n",
      " 8   RAD      511 non-null    int64  \n",
      " 9   TAX      511 non-null    int64  \n",
      " 10  PTRATIO  511 non-null    float64\n",
      " 11  B        511 non-null    float64\n",
      " 12  LSTAT    511 non-null    float64\n",
      " 13  MEDV     511 non-null    float64\n",
      "dtypes: float64(11), int64(3)\n",
      "memory usage: 56.0 KB\n"
     ]
    }
   ],
   "source": [
    "data1.info()"
   ]
  },
  {
   "cell_type": "code",
   "execution_count": 33,
   "id": "caed38e8",
   "metadata": {},
   "outputs": [],
   "source": [
    "from sklearn.model_selection import train_test_split"
   ]
  },
  {
   "cell_type": "code",
   "execution_count": 66,
   "id": "5ad6254c",
   "metadata": {},
   "outputs": [],
   "source": [
    "# please try this\n",
    "\n",
    "def split_train_test(data,test_ratio):\n",
    "    np.random.seed(42)\n",
    "    shuffled= np.random.permutation(len(data))\n",
    "    test_set_size=int(len(data)*test_ratio)\n",
    "    test_indices= shuffled[ :test_set_size]\n",
    "    train_indices=shuffled[test_set_size: ]\n",
    "    return data.iloc[train_indices],data.iloc[test_indices]"
   ]
  },
  {
   "cell_type": "code",
   "execution_count": 67,
   "id": "aaaf7fdd",
   "metadata": {},
   "outputs": [],
   "source": [
    "#please learn this\n",
    "\n",
    "train_set, test_set=split_train_test(data1,0.2)\n"
   ]
  },
  {
   "cell_type": "code",
   "execution_count": 68,
   "id": "09395b84",
   "metadata": {},
   "outputs": [
    {
     "name": "stdout",
     "output_type": "stream",
     "text": [
      "rows in train: 409\n",
      " rows in test set :102\n",
      "\n"
     ]
    }
   ],
   "source": [
    "# please learn\n",
    "\n",
    "print(f\"rows in train: {len(train_set)}\\n rows in test set :{len(test_set)}\\n\")"
   ]
  },
  {
   "cell_type": "code",
   "execution_count": 71,
   "id": "c5ed7287",
   "metadata": {},
   "outputs": [],
   "source": [
    "train_set,test_set=train_test_split(data,test_size=0.2,random_state=42)"
   ]
  },
  {
   "cell_type": "code",
   "execution_count": 72,
   "id": "ee082f61",
   "metadata": {},
   "outputs": [
    {
     "name": "stdout",
     "output_type": "stream",
     "text": [
      "rows in train: 408\n",
      " rows in test set :103\n",
      "\n"
     ]
    }
   ],
   "source": [
    "print(f\"rows in train: {len(train_set)}\\n rows in test set :{len(test_set)}\\n\")"
   ]
  },
  {
   "cell_type": "code",
   "execution_count": 73,
   "id": "a41176a7",
   "metadata": {},
   "outputs": [],
   "source": [
    "from sklearn.model_selection import StratifiedShuffleSplit"
   ]
  },
  {
   "cell_type": "code",
   "execution_count": 76,
   "id": "0811e29a",
   "metadata": {},
   "outputs": [],
   "source": [
    "split=StratifiedShuffleSplit(n_splits=1, test_size=0.2,random_state=42)\n",
    "for train_index,test_index in split.split(data1,data1[\"CHAS\"]):\n",
    "    strat_train_set=data1.loc[train_index]\n",
    "    strat_test_set=data1.loc[test_index]"
   ]
  },
  {
   "cell_type": "code",
   "execution_count": 82,
   "id": "928d0885",
   "metadata": {},
   "outputs": [
    {
     "data": {
      "text/plain": [
       "0    96\n",
       "1     7\n",
       "Name: CHAS, dtype: int64"
      ]
     },
     "execution_count": 82,
     "metadata": {},
     "output_type": "execute_result"
    }
   ],
   "source": [
    "strat_test_set[\"CHAS\"].value_counts()"
   ]
  },
  {
   "cell_type": "code",
   "execution_count": 115,
   "id": "1e6298d6",
   "metadata": {},
   "outputs": [],
   "source": [
    "data1=strat_train_set"
   ]
  },
  {
   "cell_type": "code",
   "execution_count": 116,
   "id": "dab4400a",
   "metadata": {},
   "outputs": [],
   "source": [
    "corr_mat=data1.corr()"
   ]
  },
  {
   "cell_type": "code",
   "execution_count": 117,
   "id": "df3e9051",
   "metadata": {},
   "outputs": [
    {
     "data": {
      "text/plain": [
       "MEDV       1.000000\n",
       "RM         0.680530\n",
       "B          0.350283\n",
       "ZN         0.341767\n",
       "DIS        0.250670\n",
       "CHAS       0.191563\n",
       "AGE       -0.366230\n",
       "RAD       -0.381955\n",
       "CRIM      -0.395849\n",
       "NOX       -0.425104\n",
       "TAX       -0.467171\n",
       "PTRATIO   -0.475870\n",
       "INDUS     -0.481414\n",
       "LSTAT     -0.720350\n",
       "Name: MEDV, dtype: float64"
      ]
     },
     "execution_count": 117,
     "metadata": {},
     "output_type": "execute_result"
    }
   ],
   "source": [
    "corr_mat=data1.corr()\n",
    "corr_mat[\"MEDV\"].sort_values(ascending=False)"
   ]
  },
  {
   "cell_type": "code",
   "execution_count": 118,
   "id": "178489dd",
   "metadata": {},
   "outputs": [],
   "source": [
    "from pandas.plotting import scatter_matrix"
   ]
  },
  {
   "cell_type": "code",
   "execution_count": 119,
   "id": "c36b3923",
   "metadata": {},
   "outputs": [
    {
     "data": {
      "text/plain": [
       "array([[<AxesSubplot:xlabel='RM', ylabel='RM'>,\n",
       "        <AxesSubplot:xlabel='ZN', ylabel='RM'>,\n",
       "        <AxesSubplot:xlabel='MEDV', ylabel='RM'>,\n",
       "        <AxesSubplot:xlabel='LSTAT', ylabel='RM'>],\n",
       "       [<AxesSubplot:xlabel='RM', ylabel='ZN'>,\n",
       "        <AxesSubplot:xlabel='ZN', ylabel='ZN'>,\n",
       "        <AxesSubplot:xlabel='MEDV', ylabel='ZN'>,\n",
       "        <AxesSubplot:xlabel='LSTAT', ylabel='ZN'>],\n",
       "       [<AxesSubplot:xlabel='RM', ylabel='MEDV'>,\n",
       "        <AxesSubplot:xlabel='ZN', ylabel='MEDV'>,\n",
       "        <AxesSubplot:xlabel='MEDV', ylabel='MEDV'>,\n",
       "        <AxesSubplot:xlabel='LSTAT', ylabel='MEDV'>],\n",
       "       [<AxesSubplot:xlabel='RM', ylabel='LSTAT'>,\n",
       "        <AxesSubplot:xlabel='ZN', ylabel='LSTAT'>,\n",
       "        <AxesSubplot:xlabel='MEDV', ylabel='LSTAT'>,\n",
       "        <AxesSubplot:xlabel='LSTAT', ylabel='LSTAT'>]], dtype=object)"
      ]
     },
     "execution_count": 119,
     "metadata": {},
     "output_type": "execute_result"
    },
    {
     "data": {
      "image/png": "[encoded data removed]",
      "text/plain": [
       "<Figure size 1080x576 with 16 Axes>"
      ]
     },
     "metadata": {
      "needs_background": "light"
     },
     "output_type": "display_data"
    }
   ],
   "source": [
    "attri=[\"RM\",\"ZN\",\"MEDV\",\"LSTAT\"]\n",
    "scatter_matrix(data1[attri],figsize=(15,8))"
   ]
  },
  {
   "cell_type": "code",
   "execution_count": 120,
   "id": "fd763922",
   "metadata": {},
   "outputs": [
    {
     "data": {
      "text/plain": [
       "<AxesSubplot:xlabel='RM', ylabel='MEDV'>"
      ]
     },
     "execution_count": 120,
     "metadata": {},
     "output_type": "execute_result"
    },
    {
     "data": {
      "image/png": "[encoded data removed]",
      "text/plain": [
       "<Figure size 432x288 with 1 Axes>"
      ]
     },
     "metadata": {
      "needs_background": "light"
     },
     "output_type": "display_data"
    }
   ],
   "source": [
    "data1.plot(kind=\"scatter\",x=\"RM\",y=\"MEDV\",alpha=0.8)"
   ]
  },
  {
   "cell_type": "code",
   "execution_count": 121,
   "id": "c8ea13bd",
   "metadata": {},
   "outputs": [],
   "source": [
    "data1[\"txrm\"]=data1[\"TAX\"]/data1[\"RM\"]"
   ]
  },
  {
   "cell_type": "code",
   "execution_count": 122,
   "id": "3b7e2dd7",
   "metadata": {},
   "outputs": [
    {
     "data": {
      "text/plain": [
       "MEDV       1.000000\n",
       "RM         0.680530\n",
       "B          0.350283\n",
       "ZN         0.341767\n",
       "DIS        0.250670\n",
       "CHAS       0.191563\n",
       "AGE       -0.366230\n",
       "RAD       -0.381955\n",
       "CRIM      -0.395849\n",
       "NOX       -0.425104\n",
       "TAX       -0.467171\n",
       "PTRATIO   -0.475870\n",
       "INDUS     -0.481414\n",
       "txrm      -0.531666\n",
       "LSTAT     -0.720350\n",
       "Name: MEDV, dtype: float64"
      ]
     },
     "execution_count": 122,
     "metadata": {},
     "output_type": "execute_result"
    }
   ],
   "source": [
    "corr_mat=data1.corr()\n",
    "corr_mat[\"MEDV\"].sort_values(ascending=False)"
   ]
  },
  {
   "cell_type": "code",
   "execution_count": 123,
   "id": "456784af",
   "metadata": {},
   "outputs": [
    {
     "data": {
      "text/plain": [
       "<AxesSubplot:xlabel='txrm', ylabel='MEDV'>"
      ]
     },
     "execution_count": 123,
     "metadata": {},
     "output_type": "execute_result"
    },
    {
     "data": {
      "image/png": "[encoded data removed]",
      "text/plain": [
       "<Figure size 432x288 with 1 Axes>"
      ]
     },
     "metadata": {
      "needs_background": "light"
     },
     "output_type": "display_data"
    }
   ],
   "source": [
    "data1.plot(kind=\"scatter\",x=\"txrm\",y=\"MEDV\",alpha=0.8)"
   ]
  },
  {
   "cell_type": "code",
   "execution_count": 124,
   "id": "56369bfd",
   "metadata": {},
   "outputs": [],
   "source": [
    "# missing attributes\n",
    "\n",
    "# 1.get rid os misising attributes\n",
    "# 2. get rid ofd the whole column\n",
    "#3.set the value 0,mean or median\n",
    "\n",
    "\n",
    "# for 1. is data1.dropna(subset=[\"RM\"]) remove the blank rows\n",
    "\n",
    "\n",
    "# fro 2. data1.drop(\"RM\",axis=1) remove the whole columns\n",
    "\n",
    "# for 3. data1[\"RM\"].fillna(mean/median)\n"
   ]
  },
  {
   "cell_type": "code",
   "execution_count": 134,
   "id": "26a6c386",
   "metadata": {},
   "outputs": [],
   "source": [
    "from sklearn.impute import SimpleImputer"
   ]
  },
  {
   "cell_type": "code",
   "execution_count": 135,
   "id": "974388f2",
   "metadata": {},
   "outputs": [
    {
     "data": {
      "text/plain": [
       "SimpleImputer(strategy='median')"
      ]
     },
     "execution_count": 135,
     "metadata": {},
     "output_type": "execute_result"
    }
   ],
   "source": [
    "imputer=SimpleImputer(strategy=\"median\")\n",
    "imputer.fit(data1)"
   ]
  },
  {
   "cell_type": "code",
   "execution_count": 136,
   "id": "7bf4f5b0",
   "metadata": {},
   "outputs": [
    {
     "data": {
      "text/plain": [
       "(15,)"
      ]
     },
     "execution_count": 136,
     "metadata": {},
     "output_type": "execute_result"
    }
   ],
   "source": [
    "imputer.statistics_.shape"
   ]
  },
  {
   "cell_type": "code",
   "execution_count": 137,
   "id": "b94eb094",
   "metadata": {},
   "outputs": [
    {
     "data": {
      "text/html": [
       "<div>\n",
       "<style scoped>\n",
       "    .dataframe tbody tr th:only-of-type {\n",
       "        vertical-align: middle;\n",
       "    }\n",
       "\n",
       "    .dataframe tbody tr th {\n",
       "        vertical-align: top;\n",
       "    }\n",
       "\n",
       "    .dataframe thead th {\n",
       "        text-align: right;\n",
       "    }\n",
       "</style>\n",
       "<table border=\"1\" class=\"dataframe\">\n",
       "  <thead>\n",
       "    <tr style=\"text-align: right;\">\n",
       "      <th></th>\n",
       "      <th>CRIM</th>\n",
       "      <th>ZN</th>\n",
       "      <th>INDUS</th>\n",
       "      <th>CHAS</th>\n",
       "      <th>NOX</th>\n",
       "      <th>RM</th>\n",
       "      <th>AGE</th>\n",
       "      <th>DIS</th>\n",
       "      <th>RAD</th>\n",
       "      <th>TAX</th>\n",
       "      <th>PTRATIO</th>\n",
       "      <th>B</th>\n",
       "      <th>LSTAT</th>\n",
       "      <th>MEDV</th>\n",
       "      <th>txrm</th>\n",
       "    </tr>\n",
       "  </thead>\n",
       "  <tbody>\n",
       "    <tr>\n",
       "      <th>count</th>\n",
       "      <td>408.000000</td>\n",
       "      <td>408.000000</td>\n",
       "      <td>408.00000</td>\n",
       "      <td>408.000000</td>\n",
       "      <td>408.000000</td>\n",
       "      <td>408.000000</td>\n",
       "      <td>408.000000</td>\n",
       "      <td>408.000000</td>\n",
       "      <td>408.000000</td>\n",
       "      <td>408.000000</td>\n",
       "      <td>408.000000</td>\n",
       "      <td>408.000000</td>\n",
       "      <td>408.000000</td>\n",
       "      <td>408.000000</td>\n",
       "      <td>408.000000</td>\n",
       "    </tr>\n",
       "    <tr>\n",
       "      <th>mean</th>\n",
       "      <td>3.574915</td>\n",
       "      <td>10.730392</td>\n",
       "      <td>11.37527</td>\n",
       "      <td>0.068627</td>\n",
       "      <td>0.558200</td>\n",
       "      <td>6.269142</td>\n",
       "      <td>69.169363</td>\n",
       "      <td>3.738277</td>\n",
       "      <td>9.666667</td>\n",
       "      <td>411.227941</td>\n",
       "      <td>18.500245</td>\n",
       "      <td>353.601397</td>\n",
       "      <td>12.920907</td>\n",
       "      <td>22.394363</td>\n",
       "      <td>67.412495</td>\n",
       "    </tr>\n",
       "    <tr>\n",
       "      <th>std</th>\n",
       "      <td>8.066171</td>\n",
       "      <td>22.067428</td>\n",
       "      <td>6.83855</td>\n",
       "      <td>0.253130</td>\n",
       "      <td>0.116078</td>\n",
       "      <td>0.699473</td>\n",
       "      <td>28.275511</td>\n",
       "      <td>2.085949</td>\n",
       "      <td>8.716483</td>\n",
       "      <td>168.222809</td>\n",
       "      <td>2.143483</td>\n",
       "      <td>95.566677</td>\n",
       "      <td>7.230954</td>\n",
       "      <td>9.366740</td>\n",
       "      <td>31.460407</td>\n",
       "    </tr>\n",
       "    <tr>\n",
       "      <th>min</th>\n",
       "      <td>0.006320</td>\n",
       "      <td>0.000000</td>\n",
       "      <td>0.74000</td>\n",
       "      <td>0.000000</td>\n",
       "      <td>0.389000</td>\n",
       "      <td>3.561000</td>\n",
       "      <td>2.900000</td>\n",
       "      <td>1.129600</td>\n",
       "      <td>1.000000</td>\n",
       "      <td>187.000000</td>\n",
       "      <td>13.000000</td>\n",
       "      <td>0.320000</td>\n",
       "      <td>1.730000</td>\n",
       "      <td>5.000000</td>\n",
       "      <td>24.645639</td>\n",
       "    </tr>\n",
       "    <tr>\n",
       "      <th>25%</th>\n",
       "      <td>0.087962</td>\n",
       "      <td>0.000000</td>\n",
       "      <td>5.32000</td>\n",
       "      <td>0.000000</td>\n",
       "      <td>0.453000</td>\n",
       "      <td>5.878750</td>\n",
       "      <td>45.075000</td>\n",
       "      <td>2.062000</td>\n",
       "      <td>4.000000</td>\n",
       "      <td>284.000000</td>\n",
       "      <td>17.400000</td>\n",
       "      <td>374.617500</td>\n",
       "      <td>6.927500</td>\n",
       "      <td>16.475000</td>\n",
       "      <td>44.961287</td>\n",
       "    </tr>\n",
       "    <tr>\n",
       "      <th>50%</th>\n",
       "      <td>0.286735</td>\n",
       "      <td>0.000000</td>\n",
       "      <td>9.90000</td>\n",
       "      <td>0.000000</td>\n",
       "      <td>0.538000</td>\n",
       "      <td>6.210000</td>\n",
       "      <td>77.950000</td>\n",
       "      <td>3.107300</td>\n",
       "      <td>5.000000</td>\n",
       "      <td>335.000000</td>\n",
       "      <td>19.050000</td>\n",
       "      <td>390.980000</td>\n",
       "      <td>11.705000</td>\n",
       "      <td>21.000000</td>\n",
       "      <td>53.838106</td>\n",
       "    </tr>\n",
       "    <tr>\n",
       "      <th>75%</th>\n",
       "      <td>3.716458</td>\n",
       "      <td>12.500000</td>\n",
       "      <td>18.10000</td>\n",
       "      <td>0.000000</td>\n",
       "      <td>0.625750</td>\n",
       "      <td>6.626000</td>\n",
       "      <td>94.150000</td>\n",
       "      <td>4.978850</td>\n",
       "      <td>24.000000</td>\n",
       "      <td>666.000000</td>\n",
       "      <td>20.200000</td>\n",
       "      <td>395.645000</td>\n",
       "      <td>17.272500</td>\n",
       "      <td>25.000000</td>\n",
       "      <td>98.317507</td>\n",
       "    </tr>\n",
       "    <tr>\n",
       "      <th>max</th>\n",
       "      <td>73.534100</td>\n",
       "      <td>100.000000</td>\n",
       "      <td>27.74000</td>\n",
       "      <td>1.000000</td>\n",
       "      <td>0.871000</td>\n",
       "      <td>8.704000</td>\n",
       "      <td>100.000000</td>\n",
       "      <td>12.126500</td>\n",
       "      <td>24.000000</td>\n",
       "      <td>711.000000</td>\n",
       "      <td>23.000000</td>\n",
       "      <td>396.900000</td>\n",
       "      <td>36.980000</td>\n",
       "      <td>54.000000</td>\n",
       "      <td>187.026116</td>\n",
       "    </tr>\n",
       "  </tbody>\n",
       "</table>\n",
       "</div>"
      ],
      "text/plain": [
       "             CRIM          ZN      INDUS        CHAS         NOX          RM  \\\n",
       "count  408.000000  408.000000  408.00000  408.000000  408.000000  408.000000   \n",
       "mean     3.574915   10.730392   11.37527    0.068627    0.558200    6.269142   \n",
       "std      8.066171   22.067428    6.83855    0.253130    0.116078    0.699473   \n",
       "min      0.006320    0.000000    0.74000    0.000000    0.389000    3.561000   \n",
       "25%      0.087962    0.000000    5.32000    0.000000    0.453000    5.878750   \n",
       "50%      0.286735    0.000000    9.90000    0.000000    0.538000    6.210000   \n",
       "75%      3.716458   12.500000   18.10000    0.000000    0.625750    6.626000   \n",
       "max     73.534100  100.000000   27.74000    1.000000    0.871000    8.704000   \n",
       "\n",
       "              AGE         DIS         RAD         TAX     PTRATIO           B  \\\n",
       "count  408.000000  408.000000  408.000000  408.000000  408.000000  408.000000   \n",
       "mean    69.169363    3.738277    9.666667  411.227941   18.500245  353.601397   \n",
       "std     28.275511    2.085949    8.716483  168.222809    2.143483   95.566677   \n",
       "min      2.900000    1.129600    1.000000  187.000000   13.000000    0.320000   \n",
       "25%     45.075000    2.062000    4.000000  284.000000   17.400000  374.617500   \n",
       "50%     77.950000    3.107300    5.000000  335.000000   19.050000  390.980000   \n",
       "75%     94.150000    4.978850   24.000000  666.000000   20.200000  395.645000   \n",
       "max    100.000000   12.126500   24.000000  711.000000   23.000000  396.900000   \n",
       "\n",
       "            LSTAT        MEDV        txrm  \n",
       "count  408.000000  408.000000  408.000000  \n",
       "mean    12.920907   22.394363   67.412495  \n",
       "std      7.230954    9.366740   31.460407  \n",
       "min      1.730000    5.000000   24.645639  \n",
       "25%      6.927500   16.475000   44.961287  \n",
       "50%     11.705000   21.000000   53.838106  \n",
       "75%     17.272500   25.000000   98.317507  \n",
       "max     36.980000   54.000000  187.026116  "
      ]
     },
     "execution_count": 137,
     "metadata": {},
     "output_type": "execute_result"
    }
   ],
   "source": [
    "data1.describe()"
   ]
  },
  {
   "cell_type": "code",
   "execution_count": 138,
   "id": "29b5a467",
   "metadata": {},
   "outputs": [],
   "source": [
    "x=imputer.transform(data1)"
   ]
  },
  {
   "cell_type": "code",
   "execution_count": 139,
   "id": "4ba52fc6",
   "metadata": {},
   "outputs": [],
   "source": [
    "data1_tr=pd.DataFrame(x,columns=data1.columns)"
   ]
  },
  {
   "cell_type": "code",
   "execution_count": 140,
   "id": "a6158985",
   "metadata": {},
   "outputs": [
    {
     "data": {
      "text/html": [
       "<div>\n",
       "<style scoped>\n",
       "    .dataframe tbody tr th:only-of-type {\n",
       "        vertical-align: middle;\n",
       "    }\n",
       "\n",
       "    .dataframe tbody tr th {\n",
       "        vertical-align: top;\n",
       "    }\n",
       "\n",
       "    .dataframe thead th {\n",
       "        text-align: right;\n",
       "    }\n",
       "</style>\n",
       "<table border=\"1\" class=\"dataframe\">\n",
       "  <thead>\n",
       "    <tr style=\"text-align: right;\">\n",
       "      <th></th>\n",
       "      <th>CRIM</th>\n",
       "      <th>ZN</th>\n",
       "      <th>INDUS</th>\n",
       "      <th>CHAS</th>\n",
       "      <th>NOX</th>\n",
       "      <th>RM</th>\n",
       "      <th>AGE</th>\n",
       "      <th>DIS</th>\n",
       "      <th>RAD</th>\n",
       "      <th>TAX</th>\n",
       "      <th>PTRATIO</th>\n",
       "      <th>B</th>\n",
       "      <th>LSTAT</th>\n",
       "      <th>MEDV</th>\n",
       "      <th>txrm</th>\n",
       "    </tr>\n",
       "  </thead>\n",
       "  <tbody>\n",
       "    <tr>\n",
       "      <th>count</th>\n",
       "      <td>408.000000</td>\n",
       "      <td>408.000000</td>\n",
       "      <td>408.00000</td>\n",
       "      <td>408.000000</td>\n",
       "      <td>408.000000</td>\n",
       "      <td>408.000000</td>\n",
       "      <td>408.000000</td>\n",
       "      <td>408.000000</td>\n",
       "      <td>408.000000</td>\n",
       "      <td>408.000000</td>\n",
       "      <td>408.000000</td>\n",
       "      <td>408.000000</td>\n",
       "      <td>408.000000</td>\n",
       "      <td>408.000000</td>\n",
       "      <td>408.000000</td>\n",
       "    </tr>\n",
       "    <tr>\n",
       "      <th>mean</th>\n",
       "      <td>3.574915</td>\n",
       "      <td>10.730392</td>\n",
       "      <td>11.37527</td>\n",
       "      <td>0.068627</td>\n",
       "      <td>0.558200</td>\n",
       "      <td>6.269142</td>\n",
       "      <td>69.169363</td>\n",
       "      <td>3.738277</td>\n",
       "      <td>9.666667</td>\n",
       "      <td>411.227941</td>\n",
       "      <td>18.500245</td>\n",
       "      <td>353.601397</td>\n",
       "      <td>12.920907</td>\n",
       "      <td>22.394363</td>\n",
       "      <td>67.412495</td>\n",
       "    </tr>\n",
       "    <tr>\n",
       "      <th>std</th>\n",
       "      <td>8.066171</td>\n",
       "      <td>22.067428</td>\n",
       "      <td>6.83855</td>\n",
       "      <td>0.253130</td>\n",
       "      <td>0.116078</td>\n",
       "      <td>0.699473</td>\n",
       "      <td>28.275511</td>\n",
       "      <td>2.085949</td>\n",
       "      <td>8.716483</td>\n",
       "      <td>168.222809</td>\n",
       "      <td>2.143483</td>\n",
       "      <td>95.566677</td>\n",
       "      <td>7.230954</td>\n",
       "      <td>9.366740</td>\n",
       "      <td>31.460407</td>\n",
       "    </tr>\n",
       "    <tr>\n",
       "      <th>min</th>\n",
       "      <td>0.006320</td>\n",
       "      <td>0.000000</td>\n",
       "      <td>0.74000</td>\n",
       "      <td>0.000000</td>\n",
       "      <td>0.389000</td>\n",
       "      <td>3.561000</td>\n",
       "      <td>2.900000</td>\n",
       "      <td>1.129600</td>\n",
       "      <td>1.000000</td>\n",
       "      <td>187.000000</td>\n",
       "      <td>13.000000</td>\n",
       "      <td>0.320000</td>\n",
       "      <td>1.730000</td>\n",
       "      <td>5.000000</td>\n",
       "      <td>24.645639</td>\n",
       "    </tr>\n",
       "    <tr>\n",
       "      <th>25%</th>\n",
       "      <td>0.087962</td>\n",
       "      <td>0.000000</td>\n",
       "      <td>5.32000</td>\n",
       "      <td>0.000000</td>\n",
       "      <td>0.453000</td>\n",
       "      <td>5.878750</td>\n",
       "      <td>45.075000</td>\n",
       "      <td>2.062000</td>\n",
       "      <td>4.000000</td>\n",
       "      <td>284.000000</td>\n",
       "      <td>17.400000</td>\n",
       "      <td>374.617500</td>\n",
       "      <td>6.927500</td>\n",
       "      <td>16.475000</td>\n",
       "      <td>44.961287</td>\n",
       "    </tr>\n",
       "    <tr>\n",
       "      <th>50%</th>\n",
       "      <td>0.286735</td>\n",
       "      <td>0.000000</td>\n",
       "      <td>9.90000</td>\n",
       "      <td>0.000000</td>\n",
       "      <td>0.538000</td>\n",
       "      <td>6.210000</td>\n",
       "      <td>77.950000</td>\n",
       "      <td>3.107300</td>\n",
       "      <td>5.000000</td>\n",
       "      <td>335.000000</td>\n",
       "      <td>19.050000</td>\n",
       "      <td>390.980000</td>\n",
       "      <td>11.705000</td>\n",
       "      <td>21.000000</td>\n",
       "      <td>53.838106</td>\n",
       "    </tr>\n",
       "    <tr>\n",
       "      <th>75%</th>\n",
       "      <td>3.716458</td>\n",
       "      <td>12.500000</td>\n",
       "      <td>18.10000</td>\n",
       "      <td>0.000000</td>\n",
       "      <td>0.625750</td>\n",
       "      <td>6.626000</td>\n",
       "      <td>94.150000</td>\n",
       "      <td>4.978850</td>\n",
       "      <td>24.000000</td>\n",
       "      <td>666.000000</td>\n",
       "      <td>20.200000</td>\n",
       "      <td>395.645000</td>\n",
       "      <td>17.272500</td>\n",
       "      <td>25.000000</td>\n",
       "      <td>98.317507</td>\n",
       "    </tr>\n",
       "    <tr>\n",
       "      <th>max</th>\n",
       "      <td>73.534100</td>\n",
       "      <td>100.000000</td>\n",
       "      <td>27.74000</td>\n",
       "      <td>1.000000</td>\n",
       "      <td>0.871000</td>\n",
       "      <td>8.704000</td>\n",
       "      <td>100.000000</td>\n",
       "      <td>12.126500</td>\n",
       "      <td>24.000000</td>\n",
       "      <td>711.000000</td>\n",
       "      <td>23.000000</td>\n",
       "      <td>396.900000</td>\n",
       "      <td>36.980000</td>\n",
       "      <td>54.000000</td>\n",
       "      <td>187.026116</td>\n",
       "    </tr>\n",
       "  </tbody>\n",
       "</table>\n",
       "</div>"
      ],
      "text/plain": [
       "             CRIM          ZN      INDUS        CHAS         NOX          RM  \\\n",
       "count  408.000000  408.000000  408.00000  408.000000  408.000000  408.000000   \n",
       "mean     3.574915   10.730392   11.37527    0.068627    0.558200    6.269142   \n",
       "std      8.066171   22.067428    6.83855    0.253130    0.116078    0.699473   \n",
       "min      0.006320    0.000000    0.74000    0.000000    0.389000    3.561000   \n",
       "25%      0.087962    0.000000    5.32000    0.000000    0.453000    5.878750   \n",
       "50%      0.286735    0.000000    9.90000    0.000000    0.538000    6.210000   \n",
       "75%      3.716458   12.500000   18.10000    0.000000    0.625750    6.626000   \n",
       "max     73.534100  100.000000   27.74000    1.000000    0.871000    8.704000   \n",
       "\n",
       "              AGE         DIS         RAD         TAX     PTRATIO           B  \\\n",
       "count  408.000000  408.000000  408.000000  408.000000  408.000000  408.000000   \n",
       "mean    69.169363    3.738277    9.666667  411.227941   18.500245  353.601397   \n",
       "std     28.275511    2.085949    8.716483  168.222809    2.143483   95.566677   \n",
       "min      2.900000    1.129600    1.000000  187.000000   13.000000    0.320000   \n",
       "25%     45.075000    2.062000    4.000000  284.000000   17.400000  374.617500   \n",
       "50%     77.950000    3.107300    5.000000  335.000000   19.050000  390.980000   \n",
       "75%     94.150000    4.978850   24.000000  666.000000   20.200000  395.645000   \n",
       "max    100.000000   12.126500   24.000000  711.000000   23.000000  396.900000   \n",
       "\n",
       "            LSTAT        MEDV        txrm  \n",
       "count  408.000000  408.000000  408.000000  \n",
       "mean    12.920907   22.394363   67.412495  \n",
       "std      7.230954    9.366740   31.460407  \n",
       "min      1.730000    5.000000   24.645639  \n",
       "25%      6.927500   16.475000   44.961287  \n",
       "50%     11.705000   21.000000   53.838106  \n",
       "75%     17.272500   25.000000   98.317507  \n",
       "max     36.980000   54.000000  187.026116  "
      ]
     },
     "execution_count": 140,
     "metadata": {},
     "output_type": "execute_result"
    }
   ],
   "source": [
    "data1_tr.describe()"
   ]
  },
  {
   "cell_type": "markdown",
   "id": "13345a90",
   "metadata": {},
   "source": [
    "# feature scaling\n",
    "1.normalization-(value-min)/(max-min)=sklearn provides a class called MinMaxScaler\n",
    "2.Standardization-(value-mean)/STd(standard deviation)= Sklearn provide the class called standard scaler "
   ]
  },
  {
   "cell_type": "markdown",
   "id": "61ccad6d",
   "metadata": {},
   "source": [
    "# creating a pipeline"
   ]
  },
  {
   "cell_type": "code",
   "execution_count": 143,
   "id": "dc476553",
   "metadata": {},
   "outputs": [],
   "source": [
    "from sklearn.pipeline import Pipeline\n",
    "from sklearn.preprocessing import StandardScaler"
   ]
  },
  {
   "cell_type": "code",
   "execution_count": 150,
   "id": "b12eb72f",
   "metadata": {},
   "outputs": [],
   "source": [
    "my_pipeline=Pipeline([(\"imputer\",SimpleImputer(strategy=\"median\")),\n",
    "                     \n",
    "                     (\"std_scaler\",StandardScaler())\n",
    "                     \n",
    "                     ])"
   ]
  },
  {
   "cell_type": "code",
   "execution_count": 153,
   "id": "bd190e17",
   "metadata": {},
   "outputs": [],
   "source": [
    "data1_num_tr=my_pipeline.fit_transform(data1)"
   ]
  },
  {
   "cell_type": "code",
   "execution_count": 154,
   "id": "baa0e2b8",
   "metadata": {},
   "outputs": [
    {
     "data": {
      "text/plain": [
       "array([[-0.42152521, -0.48685178, -0.24673925, ...,  0.64788652,\n",
       "         0.07542684,  0.0492314 ],\n",
       "       [-0.43776099,  3.14285176, -1.1325159 , ..., -0.87937274,\n",
       "        -0.05284333, -0.50413316],\n",
       "       [ 0.12176277, -0.48685178,  0.9845635 , ..., -0.80321747,\n",
       "         0.54575079,  3.80670463],\n",
       "       ...,\n",
       "       [-0.29076014, -0.48685178, -0.47367376, ...,  0.80296634,\n",
       "        -0.76901843, -0.55467098],\n",
       "       [ 0.27917289, -0.48685178,  0.9845635 , ..., -0.30197735,\n",
       "         0.06473766,  1.25021611],\n",
       "       [ 0.14615368, -0.48685178,  0.9845635 , ...,  0.7212725 ,\n",
       "        -0.88659942,  1.1029425 ]])"
      ]
     },
     "execution_count": 154,
     "metadata": {},
     "output_type": "execute_result"
    }
   ],
   "source": [
    "data1_num_tr"
   ]
  },
  {
   "cell_type": "code",
   "execution_count": 155,
   "id": "e01f8d9f",
   "metadata": {},
   "outputs": [],
   "source": [
    "from sklearn.linear_model import LinearRegression"
   ]
  },
  {
   "cell_type": "code",
   "execution_count": null,
   "id": "3ac1c2f5",
   "metadata": {},
   "outputs": [],
   "source": []
  }
 ],
 "metadata": {
  "kernelspec": {
   "display_name": "Python 3 (ipykernel)",
   "language": "python",
   "name": "python3"
  },
  "language_info": {
   "codemirror_mode": {
    "name": "ipython",
    "version": 3
   },
   "file_extension": ".py",
   "mimetype": "text/x-python",
   "name": "python",
   "nbconvert_exporter": "python",
   "pygments_lexer": "ipython3",
   "version": "3.9.7"
  }
 },
 "nbformat": 4,
 "nbformat_minor": 5
}
